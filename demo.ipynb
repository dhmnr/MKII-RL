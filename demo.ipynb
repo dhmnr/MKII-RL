{
 "cells": [
  {
   "cell_type": "code",
   "execution_count": 3,
   "metadata": {},
   "outputs": [
    {
     "name": "stdout",
     "output_type": "stream",
     "text": [
      "Importing MortalKombatII-Genesis\n",
      "Imported 1 games\n"
     ]
    }
   ],
   "source": [
    "!python3 -m retro.import ./ROMs/"
   ]
  },
  {
   "cell_type": "code",
   "execution_count": 4,
   "metadata": {},
   "outputs": [
    {
     "name": "stdout",
     "output_type": "stream",
     "text": [
      "env: PYGLET_HEADLESS=1\n"
     ]
    }
   ],
   "source": [
    "%set_env PYGLET_HEADLESS=1"
   ]
  },
  {
   "cell_type": "code",
   "execution_count": 1,
   "metadata": {},
   "outputs": [],
   "source": [
    "\"\"\"\n",
    "Train an agent using Proximal Policy Optimization from Stable Baselines 3\n",
    "\"\"\"\n",
    "\n",
    "import gymnasium as gym\n",
    "import numpy as np\n",
    "from gymnasium.wrappers.time_limit import TimeLimit\n",
    "from stable_baselines3 import PPO\n",
    "from stable_baselines3.common.atari_wrappers import ClipRewardEnv, WarpFrame\n",
    "from stable_baselines3.common.vec_env import (\n",
    "    SubprocVecEnv,\n",
    "    VecFrameStack,\n",
    "    VecTransposeImage,\n",
    "    DummyVecEnv\n",
    ")\n",
    "from stable_baselines3.common.callbacks import CheckpointCallback\n",
    "\n",
    "\n",
    "import retro\n",
    "\n",
    "\n",
    "class StochasticFrameSkip(gym.Wrapper):\n",
    "    def __init__(self, env, n, stickprob):\n",
    "        gym.Wrapper.__init__(self, env)\n",
    "        self.n = n\n",
    "        self.stickprob = stickprob\n",
    "        self.curac = None\n",
    "        self.rng = np.random.RandomState()\n",
    "        self.supports_want_render = hasattr(env, \"supports_want_render\")\n",
    "\n",
    "    def reset(self, **kwargs):\n",
    "        self.curac = None\n",
    "        return self.env.reset(**kwargs)\n",
    "\n",
    "    def step(self, ac):\n",
    "        terminated = False\n",
    "        truncated = False\n",
    "        totrew = 0\n",
    "        for i in range(self.n):\n",
    "            # First step after reset, use action\n",
    "            if self.curac is None:\n",
    "                self.curac = ac\n",
    "            # First substep, delay with probability=stickprob\n",
    "            elif i == 0:\n",
    "                if self.rng.rand() > self.stickprob:\n",
    "                    self.curac = ac\n",
    "            # Second substep, new action definitely kicks in\n",
    "            elif i == 1:\n",
    "                self.curac = ac\n",
    "            if self.supports_want_render and i < self.n - 1:\n",
    "                ob, rew, terminated, truncated, info = self.env.step(\n",
    "                    self.curac,\n",
    "                    want_render=False,\n",
    "                )\n",
    "            else:\n",
    "                ob, rew, terminated, truncated, info = self.env.step(self.curac)\n",
    "            totrew += rew\n",
    "            if terminated or truncated:\n",
    "                break\n",
    "        return ob, totrew, terminated, truncated, info\n",
    "\n",
    "class SelfPlay(gym.Wrapper):\n",
    "    def __init__(self, env):\n",
    "        gym.Wrapper.__init__(self, env)\n",
    "        self.player2 = PPO.load('./ckpts/ppo/rl_model_31200000_steps.zip')\n",
    "        self.player2_curac = None\n",
    "\n",
    "    def reset(self, **kwargs):\n",
    "        self.curac = None\n",
    "        obs = self.env.reset(**kwargs)\n",
    "        self.player2_curac, _ = self.player2.predict(np.flip(obs, axis=3).copy(), deterministic=True)\n",
    "        return obs\n",
    "\n",
    "    def step(self, ac):\n",
    "        terminated = False\n",
    "        truncated = False\n",
    "        totrew = 0\n",
    "        obs, rew, terminated, truncated, info = self.env.step(\n",
    "                    np.concatenate((self.curac, self.player2_curac)),\n",
    "                    want_render=False,\n",
    "                )\n",
    "        \n",
    "        self.player2_curac, _ = self.player2.predict(np.flip(obs, axis=3).copy(), deterministic=True)\n",
    "        return obs, rew, terminated, truncated, info\n",
    "\n",
    "\n",
    "def make_retro(*, game, state=None, max_episode_steps=4500, **kwargs):\n",
    "    if state is None:\n",
    "        state = retro.State.DEFAULT\n",
    "    env = retro.make(game, state, **kwargs)\n",
    "    env = StochasticFrameSkip(env, n=4, stickprob=0.25)\n",
    "    env = SelfPlay(env)\n",
    "    if max_episode_steps is not None:\n",
    "        env = TimeLimit(env, max_episode_steps=max_episode_steps)\n",
    "    return env\n",
    "\n",
    "\n",
    "def wrap_deepmind_retro(env):\n",
    "    \"\"\"\n",
    "    Configure environment for retro games, using config similar to DeepMind-style Atari in openai/baseline's wrap_deepmind\n",
    "    \"\"\"\n",
    "    env = WarpFrame(env)\n",
    "    env = ClipRewardEnv(env)\n",
    "    return env"
   ]
  },
  {
   "cell_type": "code",
   "execution_count": 2,
   "metadata": {},
   "outputs": [
    {
     "name": "stdout",
     "output_type": "stream",
     "text": [
      "Using cuda device\n"
     ]
    }
   ],
   "source": [
    "\n",
    "game = \"MortalKombatII-Genesis\"\n",
    "state = retro.State.DEFAULT\n",
    "scenario=None\n",
    "\n",
    "def make_env():\n",
    "    env = make_retro(game=game, state=state, scenario=scenario, render_mode='rgb_array', players=2)\n",
    "    env = wrap_deepmind_retro(env)\n",
    "    return env\n",
    "\n",
    "venv = VecTransposeImage(VecFrameStack(SubprocVecEnv([make_env] * 8), n_stack=4))\n",
    "model = PPO(\n",
    "    policy=\"CnnPolicy\",\n",
    "    env=venv,\n",
    "    learning_rate=lambda f: f * 2.5e-4,\n",
    "    n_steps=128,\n",
    "    batch_size=32,\n",
    "    n_epochs=4,\n",
    "    gamma=0.99,\n",
    "    gae_lambda=0.95,\n",
    "    clip_range=0.1,\n",
    "    ent_coef=0.05,\n",
    "    verbose=1,\n",
    "    tensorboard_log=\"./logs/ppo/\",\n",
    ")\n",
    "\n",
    "checkpoint_callback = CheckpointCallback(save_freq=5e4, save_path='./ckpts/ppo/')\n",
    "# model.learn(\n",
    "#     total_timesteps=100_000_000,\n",
    "#     log_interval=10,\n",
    "#     callback=checkpoint_callback\n",
    "# )\n"
   ]
  },
  {
   "cell_type": "code",
   "execution_count": 3,
   "metadata": {},
   "outputs": [
    {
     "data": {
      "text/plain": [
       "Box(0, 255, (4, 84, 84), uint8)"
      ]
     },
     "execution_count": 3,
     "metadata": {},
     "output_type": "execute_result"
    }
   ],
   "source": [
    "venv.observation_space"
   ]
  },
  {
   "cell_type": "code",
   "execution_count": 4,
   "metadata": {},
   "outputs": [
    {
     "data": {
      "text/plain": [
       "MultiBinary(24)"
      ]
     },
     "execution_count": 4,
     "metadata": {},
     "output_type": "execute_result"
    }
   ],
   "source": [
    "venv.action_space"
   ]
  },
  {
   "cell_type": "code",
   "execution_count": 43,
   "metadata": {},
   "outputs": [
    {
     "name": "stdout",
     "output_type": "stream",
     "text": [
      "Moviepy - Building video /home/dmanu006/MKII-RL/video_folder/rl-video-episode-0.mp4.\n",
      "Moviepy - Writing video /home/dmanu006/MKII-RL/video_folder/rl-video-episode-0.mp4\n",
      "\n"
     ]
    },
    {
     "name": "stderr",
     "output_type": "stream",
     "text": [
      "                                                  "
     ]
    },
    {
     "name": "stdout",
     "output_type": "stream",
     "text": [
      "Moviepy - Done !\n",
      "Moviepy - video ready /home/dmanu006/MKII-RL/video_folder/rl-video-episode-0.mp4\n"
     ]
    },
    {
     "name": "stderr",
     "output_type": "stream",
     "text": [
      "/home/dmanu006/.cache/pypoetry/virtualenvs/mkii-rl-x7V4BTwf-py3.10/lib/python3.10/site-packages/gymnasium/wrappers/record_video.py:94: UserWarning: \u001b[33mWARN: Overwriting existing videos at /home/dmanu006/MKII-RL/video_folder folder (try specifying a different `video_folder` for the `RecordVideo` wrapper if this is not desired)\u001b[0m\n",
      "  logger.warn(\n"
     ]
    },
    {
     "name": "stdout",
     "output_type": "stream",
     "text": [
      "Moviepy - Building video /home/dmanu006/MKII-RL/video_folder/rl-video-episode-0.mp4.\n",
      "Moviepy - Writing video /home/dmanu006/MKII-RL/video_folder/rl-video-episode-0.mp4\n",
      "\n"
     ]
    },
    {
     "name": "stderr",
     "output_type": "stream",
     "text": [
      "                                                                  \r"
     ]
    },
    {
     "name": "stdout",
     "output_type": "stream",
     "text": [
      "Moviepy - Done !\n",
      "Moviepy - video ready /home/dmanu006/MKII-RL/video_folder/rl-video-episode-0.mp4\n",
      "Moviepy - Building video /home/dmanu006/MKII-RL/video_folder/rl-video-episode-1.mp4.\n",
      "Moviepy - Writing video /home/dmanu006/MKII-RL/video_folder/rl-video-episode-1.mp4\n",
      "\n"
     ]
    },
    {
     "name": "stderr",
     "output_type": "stream",
     "text": [
      "                                                  "
     ]
    },
    {
     "name": "stdout",
     "output_type": "stream",
     "text": [
      "Moviepy - Done !\n",
      "Moviepy - video ready /home/dmanu006/MKII-RL/video_folder/rl-video-episode-1.mp4\n"
     ]
    },
    {
     "name": "stderr",
     "output_type": "stream",
     "text": [
      "\r"
     ]
    }
   ],
   "source": [
    "env.close()\n",
    "\n",
    "def make_nenv():\n",
    "    env = make_env()\n",
    "    env = gym.wrappers.RecordVideo(env, 'video_folder')\n",
    "    return env\n",
    "\n",
    "env = VecTransposeImage(VecFrameStack(DummyVecEnv([make_nenv]), 4))\n",
    "model1 = PPO.load('./ckpts/ppo/rl_model_31200000_steps.zip')\n",
    "model2 = PPO.load('./ckpts/ppo/rl_model_31200000_steps.zip')\n",
    "# Reset the environment\n",
    "obs = env.reset()\n",
    "done = False\n",
    "\n",
    "# Run the policy until the episode is done\n",
    "while not done:\n",
    "    obs2 = obs.copy()\n",
    "    action1, _states = model1.predict(obs.copy(), deterministic=True)\n",
    "    action2, _states = model2.predict(np.flip(obs2, axis=3).copy(), deterministic=True)\n",
    "    obs, rewards, done, info = env.step( np.concatenate((action1, action2), axis=0))\n",
    "\n",
    "# Close the environment\n",
    "env.close()"
   ]
  },
  {
   "cell_type": "code",
   "execution_count": null,
   "metadata": {},
   "outputs": [],
   "source": []
  }
 ],
 "metadata": {
  "kernelspec": {
   "display_name": "mkii-rl-x7V4BTwf-py3.10",
   "language": "python",
   "name": "python3"
  },
  "language_info": {
   "codemirror_mode": {
    "name": "ipython",
    "version": 3
   },
   "file_extension": ".py",
   "mimetype": "text/x-python",
   "name": "python",
   "nbconvert_exporter": "python",
   "pygments_lexer": "ipython3",
   "version": "3.10.12"
  }
 },
 "nbformat": 4,
 "nbformat_minor": 2
}
